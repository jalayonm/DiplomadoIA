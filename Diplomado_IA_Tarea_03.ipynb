{
 "cells": [
  {
   "cell_type": "markdown",
   "id": "b59bb5ef",
   "metadata": {},
   "source": [
    "# <center> Tarea 3, Diplomado en Inteligencia Artificial y Aprendizaje Profundo\n",
    "    \n",
    "    \n",
    "* Juan Felipe Alayón Martiínez \n",
    "* jalayonm@unal.edu.co\n",
    "* de abril del 2023"
   ]
  },
  {
   "cell_type": "markdown",
   "id": "5305987f",
   "metadata": {},
   "source": [
    "## Punto 1. \n",
    "\n",
    "Escriba una función  que reciba la fecha de nacimiento de un a persona y calcule la edad de la persona"
   ]
  },
  {
   "cell_type": "code",
   "execution_count": 1,
   "id": "60b390b7",
   "metadata": {},
   "outputs": [],
   "source": [
    "#Función edad \n",
    "\n",
    "def edad(nacimiento:str):\n",
    "    l_edad= [int(num) for num in nacimiento.split('/')]\n",
    "    if l_edad[1]< 4:\n",
    "        edad= 2023- l_edad[2]\n",
    "    elif l_edad[1]> 4:\n",
    "        edad= 2022- l_edad[2]\n",
    "    elif l_edad[1]== 4:\n",
    "        if l_edad[0]<23:\n",
    "            edad = 2023-l_edad[2]\n",
    "        elif l_edad[0]>23:\n",
    "            edad = 2022-l_edad[2]\n",
    "    else:\n",
    "        edad='Edad invalida'\n",
    "    \n",
    "    resultado=f'Usted tiene {edad} años'\n",
    "    return resultado"
   ]
  },
  {
   "cell_type": "code",
   "execution_count": 2,
   "id": "97b9ed19",
   "metadata": {},
   "outputs": [
    {
     "name": "stdout",
     "output_type": "stream",
     "text": [
      "Ingrese su fecha de nacimiento utilizando el siguiente formato dd/mm/aaaa\n",
      "01/04/1905\n"
     ]
    },
    {
     "data": {
      "text/plain": [
       "'Usted tiene 118 años'"
      ]
     },
     "execution_count": 2,
     "metadata": {},
     "output_type": "execute_result"
    }
   ],
   "source": [
    "print('Ingrese su fecha de nacimiento utilizando el siguiente formato dd/mm/aaaa')\n",
    "nacimiento=input()\n",
    "\n",
    "edad(nacimiento)"
   ]
  },
  {
   "cell_type": "markdown",
   "id": "b1153393",
   "metadata": {},
   "source": [
    "## Punto 2\n",
    "* Crea una función EscribirCentrado, que reciba como parámetro un texto y lo escriba centrado en pantalla (suponiendo una anchura de 80 columnas; pista: deberás escribir 40 - longitud/2 espacios antes del texto). "
   ]
  },
  {
   "cell_type": "code",
   "execution_count": 78,
   "id": "a2f302ac",
   "metadata": {},
   "outputs": [],
   "source": [
    "def centrar(texto:str):\n",
    "    longitud = len(texto)\n",
    "    espacios = 60 - longitud // 2\n",
    "    palabra=print(' ' * espacios + texto)\n",
    "    return palabra"
   ]
  },
  {
   "cell_type": "code",
   "execution_count": 80,
   "id": "b88dfa38",
   "metadata": {},
   "outputs": [
    {
     "name": "stdout",
     "output_type": "stream",
     "text": [
      "Ingrese el titulo de su juego favorito Valorant\n",
      "\n",
      "\n",
      "                                                        Valorant\n"
     ]
    }
   ],
   "source": [
    "texto = input('Ingrese el titulo de su juego favorito ')\n",
    "print('\\n')\n",
    "centrar(texto)"
   ]
  },
  {
   "cell_type": "markdown",
   "id": "3fc7f59a",
   "metadata": {},
   "source": [
    "## Punto 3 \n",
    "* Construya una función decorada que reciba un texto y lo escriba marcado con Markdown en itálica y resaltada (bold). Revise la lección de decoradores, no vista en clase."
   ]
  },
  {
   "cell_type": "code",
   "execution_count": 82,
   "id": "8d2e89bd",
   "metadata": {},
   "outputs": [],
   "source": [
    "def italica(text:str):\n",
    "    impresion=print(f'**_{texto}_**')\n",
    "    return impresion"
   ]
  },
  {
   "cell_type": "code",
   "execution_count": 84,
   "id": "37cfddd3",
   "metadata": {},
   "outputs": [
    {
     "name": "stdout",
     "output_type": "stream",
     "text": [
      "ingrese su frase favorita: El gato panzon \n",
      "**_El gato panzon _**\n"
     ]
    }
   ],
   "source": [
    "texto=input('ingrese su frase favorita: ')\n",
    "italica(texto)"
   ]
  },
  {
   "cell_type": "markdown",
   "id": "a16de69b",
   "metadata": {},
   "source": [
    "## Punto 4\n",
    "\n",
    "* Crea un programa que pida dos número enteros al usuario y diga si alguno de ellos es múltiplo del otro."
   ]
  },
  {
   "cell_type": "code",
   "execution_count": 3,
   "id": "a9c438c2",
   "metadata": {},
   "outputs": [],
   "source": [
    "def multiplo(a:int,b:int):\n",
    "    \n",
    "    if a%b==0:\n",
    "        resultado= print(f'El numero {a} es multiplo de {b}')\n",
    "    else:\n",
    "        resultado= print(f'El numero {a} NO es multiplo de {b}')\n",
    "    \n",
    "    return resultado "
   ]
  },
  {
   "cell_type": "code",
   "execution_count": 4,
   "id": "07f850ef",
   "metadata": {},
   "outputs": [
    {
     "name": "stdout",
     "output_type": "stream",
     "text": [
      "Ingrese dos numeros para saber si son multiplos el uno del otro\n",
      "44\n",
      "24\n",
      "El numero 44 NO es multiplo de 24\n"
     ]
    }
   ],
   "source": [
    "print('Ingrese dos numeros para saber si son multiplos el uno del otro')\n",
    "a=int(input())\n",
    "b=int(input())\n",
    "\n",
    "multiplo(a,b)"
   ]
  },
  {
   "cell_type": "markdown",
   "id": "624907ac",
   "metadata": {},
   "source": [
    "## Punto 5.1\n",
    "Crear una función re reciba una lista  de 24 valores de temperatura leída  hora en un día y que calcule la temperatura media  Cree una lista con 24 valores de temperatura de un día de Bogotá y pruebe su función. Invente los datos."
   ]
  },
  {
   "cell_type": "code",
   "execution_count": 5,
   "id": "d3ca8257",
   "metadata": {},
   "outputs": [
    {
     "name": "stdout",
     "output_type": "stream",
     "text": [
      "El promedio de Temperatura es de 18.603749999999998 ºC\n"
     ]
    }
   ],
   "source": [
    "lista=[17.9, 20.2, 18, 19, 20.2, 17.8, 18, 19.23, 15.9, 16.88, 16.9, 19, 20, 21.01, 20.2, 18.77, 18.22, 18.6, 19.9, \n",
    "       19,18, 18.22, 17.56 ,18]\n",
    "\n",
    "def promedio(lista:list):\n",
    "    suma=0\n",
    "    prom=0\n",
    "    \n",
    "    for i in range(len(lista)):\n",
    "        lista[i]=float(lista[i])\n",
    "    for i in range(len(lista)):\n",
    "        suma= suma + lista[i]\n",
    "    \n",
    "    prom= suma/len(lista)\n",
    "    resultado= print(f'El promedio de Temperatura es de {prom} ºC')\n",
    "    return resultado\n",
    "\n",
    "promedio(lista)\n",
    "\n"
   ]
  },
  {
   "cell_type": "markdown",
   "id": "92c0f153",
   "metadata": {},
   "source": [
    "## Punto 5.2 \n",
    "\n",
    "Crea un función “ConvertirEspaciado”, que reciba como parámetro un texto y devuelve una cadena con un espacio adicional tras cada letra. Por ejemplo, “Hola, tú” devolverá “H o l a , t ú “.  Pruebe "
   ]
  },
  {
   "cell_type": "code",
   "execution_count": 86,
   "id": "6f191c60",
   "metadata": {},
   "outputs": [],
   "source": [
    "def espacio(texto:str):\n",
    "    lista=list(texto)\n",
    "    letras_separadas=' '.join(lista)\n",
    "    return letras_separadas"
   ]
  },
  {
   "cell_type": "code",
   "execution_count": 87,
   "id": "d9e68097",
   "metadata": {},
   "outputs": [
    {
     "name": "stdout",
     "output_type": "stream",
     "text": [
      "Ingrese cualquier texto: Los ojos bonitos\n",
      "L o s   o j o s   b o n i t o s\n"
     ]
    }
   ],
   "source": [
    "texto=input('Ingrese cualquier texto: ')\n",
    "frase=espacio(texto)\n",
    "print(frase)"
   ]
  },
  {
   "cell_type": "markdown",
   "id": "d9e2a8a9",
   "metadata": {},
   "source": [
    "## Punto 6\n",
    "Crea una función “calcularMaxMin” que recibe una arreglo con valores numérico y devuelve el valor máximo y el mínimo. "
   ]
  },
  {
   "cell_type": "code",
   "execution_count": 97,
   "id": "042f7b2b",
   "metadata": {},
   "outputs": [],
   "source": [
    "def lista_n(arreglo:str):\n",
    "    lista=[float(i) for i in arreglo.split(',')]\n",
    "    return lista\n",
    "\n",
    "def maxmin(lista:list):\n",
    "    #valor maximo \n",
    "    maximo=lista[0]\n",
    "    minimo=lista[0]\n",
    "    \n",
    "    for i in lista:\n",
    "        if maximo < i:\n",
    "            maximo=i\n",
    "            \n",
    "    for x in lista:\n",
    "        if minimo> x:\n",
    "            minimo=x\n",
    "    resultado = print(f'El numero maximo de la lista es: {maximo} \\nEl numero minimo de la lista es: {minimo}')"
   ]
  },
  {
   "cell_type": "code",
   "execution_count": 100,
   "id": "2b24529b",
   "metadata": {},
   "outputs": [
    {
     "name": "stdout",
     "output_type": "stream",
     "text": [
      "ingrese una lista de numeros separados por comas 1,2,3,55,106.45,-4.2\n",
      "El numero maximo de la lista es: 106.45 \n",
      "El numero minimo de la lista es: -4.2\n"
     ]
    }
   ],
   "source": [
    "arreglo=input('ingrese una lista de numeros separados por comas ')\n",
    "\n",
    "lista= lista_n(arreglo)\n",
    "\n",
    "maxmin(lista)"
   ]
  },
  {
   "cell_type": "markdown",
   "id": "41c88230",
   "metadata": {},
   "source": [
    "## Punto 7\n",
    "\n",
    "Diseñar una función que calcule el área y el perímetro de una circunferencia. "
   ]
  },
  {
   "cell_type": "code",
   "execution_count": 8,
   "id": "a33dceb8",
   "metadata": {},
   "outputs": [],
   "source": [
    "import numpy as np \n",
    "\n",
    "def areayp(radio:float):\n",
    "    area=np.pi*radio*radio\n",
    "    perimetro=2*np.pi*radio \n",
    "    \n",
    "    resultado=print(f'El Area del circulo es: {area} und^2 \\nEl perimetro del circulo es {perimetro} und')\n",
    "    "
   ]
  },
  {
   "cell_type": "code",
   "execution_count": 10,
   "id": "83582f4f",
   "metadata": {},
   "outputs": [
    {
     "name": "stdout",
     "output_type": "stream",
     "text": [
      "Por favor ingrese el radio del circulo 2.78\n",
      "El Area del circulo es: 24.279484664003352 und^2 \n",
      "El perimetro del circulo es 17.467255153959247 und\n"
     ]
    }
   ],
   "source": [
    "radio= float(input('Por favor ingrese el radio del circulo '))\n",
    "\n",
    "areayp(radio)"
   ]
  },
  {
   "cell_type": "markdown",
   "id": "fb51a9b9",
   "metadata": {},
   "source": [
    "# Punto 8\n",
    " Crear una función  llamada “Login”, que recibe un nombre de usuario y una contraseña y devuelva Verdadero si el nombre de usuario es “usuario1” y la contraseña es “asdasd”. Además recibe el número de intentos que se ha intentado hacer login y si no se ha podido hacer login incremente este valor."
   ]
  },
  {
   "cell_type": "code",
   "execution_count": 69,
   "id": "5601113e",
   "metadata": {},
   "outputs": [
    {
     "name": "stdout",
     "output_type": "stream",
     "text": [
      "Por favor ingrese nombre de usuario y contraseña\n",
      "Usuario: usuario1\n",
      "Contraseña: asdasd\n",
      "Ingreso al sistema exitosamente\n",
      "Numero de intentos 0\n"
     ]
    }
   ],
   "source": [
    "#Prueba antes de hacer la función\n",
    "x=True\n",
    "while x==True:\n",
    "    print('Por favor ingrese nombre de usuario y contraseña')\n",
    "    usuario=input('Usuario: ')\n",
    "    contraseña=input('Contraseña: ')\n",
    "    if usuario == 'usuario1' and contraseña=='asdasd':\n",
    "        print('Ingreso al sistema exitosamente')\n",
    "        print(f'Numero de intentos {n}')\n",
    "        \n",
    "        x=False\n",
    "    else: \n",
    "        n=n+1\n",
    "        print('Contraseña o usuario incorrecto vuelva a intentar ')\n",
    "        "
   ]
  },
  {
   "cell_type": "code",
   "execution_count": 92,
   "id": "891e2ce7",
   "metadata": {},
   "outputs": [],
   "source": [
    "def login(usuario:str,contraseña:str,n):\n",
    "    \n",
    "    if usuario == '1' and contraseña=='1':\n",
    "        print('Ingreso al sistema exitosamente')\n",
    "        print(f'Numero de intentos {n}')\n",
    "        return True\n",
    "    else: \n",
    "        print('Contraseña o usuario incorrecto vuelva a intentar ')\n",
    "        return False"
   ]
  },
  {
   "cell_type": "code",
   "execution_count": 93,
   "id": "72063095",
   "metadata": {},
   "outputs": [
    {
     "name": "stdout",
     "output_type": "stream",
     "text": [
      "Por favor ingrese nombre de usuario y contraseña\n",
      "Usuario: 12\n",
      "Contraseña: 12\n",
      "Contraseña o usuario incorrecto vuelva a intentar \n",
      "Por favor ingrese nombre de usuario y contraseña\n",
      "Usuario: 12\n",
      "Contraseña: 12\n",
      "Contraseña o usuario incorrecto vuelva a intentar \n",
      "Por favor ingrese nombre de usuario y contraseña\n",
      "Usuario: 1\n",
      "Contraseña: 1\n",
      "Ingreso al sistema exitosamente\n",
      "Numero de intentos 2\n"
     ]
    }
   ],
   "source": [
    "sies=False\n",
    "n=0\n",
    "\n",
    "while sies==False:\n",
    "    print('Por favor ingrese nombre de usuario y contraseña')\n",
    "    usuario=input('Usuario: ')\n",
    "    contraseña=input('Contraseña: ')\n",
    "    sies=login(usuario,contraseña,n)\n",
    "    n=n+1"
   ]
  },
  {
   "cell_type": "markdown",
   "id": "45f934e1",
   "metadata": {},
   "source": [
    "## Punto 9\n",
    "\n",
    "Crear una función recursiva que permita calcular el factorial de un número. Realiza un programa principal donde se lea un entero y se muestre el resultado del factorial. Revise la lección de funciones."
   ]
  },
  {
   "cell_type": "code",
   "execution_count": 103,
   "id": "3161fb19",
   "metadata": {},
   "outputs": [],
   "source": [
    "def facto(L, i, n, count):\n",
    "\n",
    "    if n <= i:\n",
    "        return count\n",
    "\n",
    "    count = L[i]* count\n",
    "    count = facto(L, i + 1, n, count)\n",
    "\n",
    "    return count"
   ]
  },
  {
   "cell_type": "code",
   "execution_count": 107,
   "id": "b3890b35",
   "metadata": {},
   "outputs": [
    {
     "name": "stdout",
     "output_type": "stream",
     "text": [
      "Por favor ingrese un numero al cual tomarle su factorial: 10\n",
      "El factorial del numero 10 es 3628800\n"
     ]
    }
   ],
   "source": [
    "N=int(input('Por favor ingrese un numero al cual tomarle su factorial: '))\n",
    "L = list(range(1,N+1))\n",
    "\n",
    "count = 1\n",
    "n = len(L)\n",
    "factorial= facto(L, 0, n, count)\n",
    "\n",
    "print(f'El factorial del numero {N} es {factorial}')"
   ]
  },
  {
   "cell_type": "markdown",
   "id": "94f1767d",
   "metadata": {},
   "source": [
    "## Punto 10.A\n",
    "\n",
    "La cantidad de segundos en un tiempo dado en horas, minutos y segundos."
   ]
  },
  {
   "cell_type": "code",
   "execution_count": 126,
   "id": "9df7d949",
   "metadata": {},
   "outputs": [],
   "source": [
    "def s_h(segundos:int):\n",
    "    h= segundos// 3600\n",
    "    minu= (segundos%3600)//60\n",
    "    seg= (segundos%3600)%60\n",
    "    resultado=print(f'{h}:{minu}:{seg}')\n",
    "    return resultado"
   ]
  },
  {
   "cell_type": "code",
   "execution_count": 127,
   "id": "2512b43f",
   "metadata": {},
   "outputs": [
    {
     "name": "stdout",
     "output_type": "stream",
     "text": [
      "Ingrese el numero de segundos que desea convertir a hora, minutos y segundos: 12000\n",
      "3:20:0\n"
     ]
    }
   ],
   "source": [
    "segundos= int(input('Ingrese el numero de segundos que desea convertir a hora, minutos y segundos: '))\n",
    "\n",
    "s_h(segundos )"
   ]
  },
  {
   "cell_type": "markdown",
   "id": "7af8b111",
   "metadata": {},
   "source": [
    "## Punto 10.B\n",
    "\n",
    "La cantidad de horas, minutos y segundos de un tiempo dado en segundos"
   ]
  },
  {
   "cell_type": "code",
   "execution_count": 131,
   "id": "afd3acad",
   "metadata": {},
   "outputs": [],
   "source": [
    "def h_s(horas:str):\n",
    "    lista=[int(num) for num in horas.split(':')]\n",
    "    if 0<=lista[1]<=60 and 0<=lista[2]<=60:\n",
    "        horas=lista[0]*3600\n",
    "        minu=lista[1]*60\n",
    "        tiempo=horas+minu+lista[2]\n",
    "        resultado=print(f'la cantidad de segundos es {tiempo}')\n",
    "    else:\n",
    "        resultado=print('formato de hora o segundos invalida')\n",
    "    return resultado"
   ]
  },
  {
   "cell_type": "code",
   "execution_count": 133,
   "id": "d0039b3c",
   "metadata": {},
   "outputs": [
    {
     "name": "stdout",
     "output_type": "stream",
     "text": [
      "Por favor incerte una hora con el formato hh:mm:ss: 23:59:08\n",
      "la cantidad de segundos es 86348\n"
     ]
    }
   ],
   "source": [
    "horas=input('Por favor incerte una hora con el formato hh:mm:ss: ')\n",
    "\n",
    "h_s(horas)"
   ]
  },
  {
   "cell_type": "markdown",
   "id": "b9743308",
   "metadata": {},
   "source": [
    "## Punto 11\n",
    "\n",
    "Crea una función  que lea una tupla, invierta los valores de la tupla y regrese una nueva tupla invirtiendo los valores. Recuerde que las tuplas son inmutables."
   ]
  },
  {
   "cell_type": "code",
   "execution_count": 50,
   "id": "79e4886d",
   "metadata": {},
   "outputs": [],
   "source": [
    "def inversa(Tupla:tuple):\n",
    "    lista= list(Tupla)\n",
    "    lista1=lista.reverse()\n",
    "    tupla2= tuple(lista)\n",
    "    return tupla2\n"
   ]
  },
  {
   "cell_type": "code",
   "execution_count": 58,
   "id": "3b47a3dd",
   "metadata": {},
   "outputs": [
    {
     "name": "stdout",
     "output_type": "stream",
     "text": [
      "('siete', 6, 5, 4, 3, 2, 1)\n"
     ]
    }
   ],
   "source": [
    "tupla=(1,2,3,4,5,6,'siete')\n",
    "tuplanuv=inversa(tupla)\n",
    "print(tuplanuv)\n"
   ]
  },
  {
   "cell_type": "markdown",
   "id": "c75eaa24",
   "metadata": {},
   "source": [
    "## Punto 12\n",
    "\n",
    "Escriba una función que lea una lista y calcule la media geométrica de sus valores, usando funtools.reduce."
   ]
  },
  {
   "cell_type": "code",
   "execution_count": 98,
   "id": "562d11f6",
   "metadata": {},
   "outputs": [],
   "source": [
    "import functools \n",
    "\n",
    "def media(lista:list):\n",
    "    productoria=functools.reduce(lambda x,y:x*y,lista)\n",
    "    media=productoria**(1/len(lista))\n",
    "    return media"
   ]
  },
  {
   "cell_type": "code",
   "execution_count": 99,
   "id": "c0d2311a",
   "metadata": {},
   "outputs": [
    {
     "name": "stdout",
     "output_type": "stream",
     "text": [
      "ingrese una lista de numeros: 1,2,3,4,5,6,7,11\n",
      "la media geometrica es: 3.917219454306882\n"
     ]
    }
   ],
   "source": [
    "lista=lista_n(input('ingrese una lista de numeros: '))\n",
    "rsult=media(lista)\n",
    "print(f'la media geometrica es: {rsult}')"
   ]
  }
 ],
 "metadata": {
  "kernelspec": {
   "display_name": "Python 3 (ipykernel)",
   "language": "python",
   "name": "python3"
  },
  "language_info": {
   "codemirror_mode": {
    "name": "ipython",
    "version": 3
   },
   "file_extension": ".py",
   "mimetype": "text/x-python",
   "name": "python",
   "nbconvert_exporter": "python",
   "pygments_lexer": "ipython3",
   "version": "3.10.9"
  }
 },
 "nbformat": 4,
 "nbformat_minor": 5
}
