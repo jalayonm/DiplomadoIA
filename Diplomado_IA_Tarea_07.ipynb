{
 "cells": [
  {
   "cell_type": "markdown",
   "id": "1984e157",
   "metadata": {},
   "source": [
    "# <center> Tarea 7, Diplomado en Inteligencia Artificial y Aprendizaje Profundo\n",
    "    \n",
    "    \n",
    "* Juan Felipe Alayón Martiínez \n",
    "* jalayonm@unal.edu.co\n",
    "* Mayo  2023"
   ]
  },
  {
   "cell_type": "code",
   "execution_count": 1,
   "id": "60dcfa09",
   "metadata": {},
   "outputs": [],
   "source": [
    "import pandas as pd\n",
    "import numpy as np\n",
    "import tensorflow as tf\n",
    "from tensorflow.keras.optimizers import Adam\n",
    "import matplotlib.pyplot as plt"
   ]
  },
  {
   "cell_type": "markdown",
   "id": "2e20ee3a",
   "metadata": {},
   "source": [
    "## Punto 1\n",
    "\n",
    "Busca ejemplos de diferentes tipos de creatividad según la científica cognitiva Margaret Boden,  los cuales corresponden a: Creatividad exploratoria, por combinación y creatividad transformadora. Referencia bibliográfica: MARGARET, BODEN. La mente creativa. Mitos y Mecanismos Edit. Gedisa. Barcelona, 1994).\n",
    "    \n",
    "Margaret Bonet es una distinguida profesora de la universidad de la Universidad de Sussex en UK, sus estudios se centran en los campos de la psicologia, intelogencia artificial, filosofia entre otros. Ella propone 3 tipos de creatividad cientifica los cuales son:\n",
    "\n",
    "* Creatividad exploratoria: Trata de explorar nuevas ideas o caminos sin algún tipo de restricciones, es basicamente como tomar riesgos bajo un conocimiento que ya se tiene, como por ejemplo: Un científico que propone una hipótesis radicalmente diferente para explicar un fenómeno natural\n",
    "\n",
    "* Creatividad combinacional: Trata de crear cosas nuevas, revolucionarias o extraordinarias, con objetos que o ideas que existen, como tomar lo que ya esta hecho y con ello crear algo nuevo, la frase de caminar sobre hombros de gigantes aplicaria para esta creatividad. Un ejemplo de esto es: Un chef que fusiona ingredientes de diferentes culturas culinarias para crear un nuevo plato único.\n",
    "\n",
    "* Creatividad transformadora: Trata de a partir de las cosas que ya existen, ya sea conceptos, ideas, teorias, etc. Crear una forma para perfeccionar dichas cosas. Un ejemplo seria: Un diseñador de moda que crea prendas hechas de materiales reciclados, desafiando las normas de la industria.\n"
   ]
  },
  {
   "cell_type": "markdown",
   "id": "938786a5",
   "metadata": {},
   "source": [
    "## Punto 2 \n",
    "\n",
    "Menciona ejemplos aplicados de IA  existentes en la actualidad sobre estos tipos de creatividad.\n",
    "\n",
    "* Creatividad exploratoria: uno de los ejemplos mas conocidos puede ser ChatGPT que a la hora de uno solicitar ideas nuevas bajo un tema en especifico este te las dará o IA que bajo un gran conjunto de datos de X cosa puedan proponer algo sobre ellos, como que bajo un conjunto de datos puedan proponer una regresión que modele estos sin necesidad de usar funciones convencionales \n",
    "\n",
    "* Creatividad combinacional: El ejemplo mas comun es el generador de una playlist según mis gustos musicales, como puede ser el bot de Spotify, o youtube. o volvemos al ejemplo de ChatGPT cuando se le pide crear algún escrito o codigo con base a algo que ya existe. \n",
    "\n",
    "* Creatividad transformadora: La IA puedee ayudar a mejorar algoritmos que ya existen o creados por uno mismo, con el fin de mejorar rendimiento, reducir lineas de codigo o aplicar cosas nuevas a estos. "
   ]
  },
  {
   "cell_type": "markdown",
   "id": "541a688a",
   "metadata": {},
   "source": [
    "## Punto 3\n",
    "\n",
    "Respecto al primer Perceptrón, averigua y comprende un poco la conexión entre el modelo planteado teórico y la máquina física hecha. ¿Qué tipo de problemas resolvía el Mark I Perceptrón?\n",
    "\n",
    "\n",
    "* El primer perceptron fue desarrollado por Frank Rosenblatt quien creo lo que se conoce como la primera red neuronal. Dicha red se trataba de que a partir de unos datos de entrada se les asiganab ciertos pesos que luego llegarian a una función sumatoria, donde por medio de una función de activación podia generar una salida. Una red bastante simple comparada con las que existen ahora pero que fue pionera en el aprendizaje de maquinas. Para ello utilizo un computador de la compañia IBM llamado IBM704 que podia realizar 40.000 operaciones por segundo. La principal función de dicho perceptron era la de clasificación, en donde lo mas destacado fue la clasificación de rostros de hombres y mujeres, donde se le daban una gran cantidad de datos, la maquina aprendia y daba un resultado. "
   ]
  },
  {
   "cell_type": "markdown",
   "id": "5d7c1777",
   "metadata": {},
   "source": [
    "## Punto 4\n",
    "\n",
    "De acuerdo al punto anterior,  realice un ejemplo de red neuronal, usando Tensorflow, que lo ilustre."
   ]
  },
  {
   "cell_type": "code",
   "execution_count": 2,
   "id": "2a083a3a",
   "metadata": {},
   "outputs": [
    {
     "name": "stdout",
     "output_type": "stream",
     "text": [
      "Downloading data from https://storage.googleapis.com/tensorflow/tf-keras-datasets/mnist.npz\n",
      "11490434/11490434 [==============================] - 1s 0us/step\n",
      "Epoch 1/5\n",
      "1875/1875 [==============================] - 3s 1ms/step - loss: 0.2568 - accuracy: 0.9271 - val_loss: 0.1452 - val_accuracy: 0.9562\n",
      "Epoch 2/5\n",
      "1875/1875 [==============================] - 2s 1ms/step - loss: 0.1137 - accuracy: 0.9666 - val_loss: 0.0937 - val_accuracy: 0.9724\n",
      "Epoch 3/5\n",
      "1875/1875 [==============================] - 2s 1ms/step - loss: 0.0776 - accuracy: 0.9764 - val_loss: 0.0833 - val_accuracy: 0.9737\n",
      "Epoch 4/5\n",
      "1875/1875 [==============================] - 2s 1ms/step - loss: 0.0589 - accuracy: 0.9821 - val_loss: 0.0749 - val_accuracy: 0.9768\n",
      "Epoch 5/5\n",
      "1875/1875 [==============================] - 2s 1ms/step - loss: 0.0435 - accuracy: 0.9865 - val_loss: 0.0736 - val_accuracy: 0.9779\n",
      "313/313 [==============================] - 0s 936us/step - loss: 0.0736 - accuracy: 0.9779\n",
      "Precisión en el conjunto de prueba: 0.9779000282287598\n"
     ]
    }
   ],
   "source": [
    "import tensorflow as tf\n",
    "from tensorflow.keras.datasets import mnist\n",
    "from tensorflow.keras.models import Sequential\n",
    "from tensorflow.keras.layers import Dense, Flatten\n",
    "\n",
    "# Cargar el conjunto de datos MNIST\n",
    "(x_train, y_train), (x_test, y_test) = mnist.load_data()\n",
    "\n",
    "# Normalizar los valores de píxeles entre 0 y 1\n",
    "x_train = x_train / 255.0\n",
    "x_test = x_test / 255.0\n",
    "\n",
    "# Definir la arquitectura de la red neuronal\n",
    "model = Sequential()\n",
    "model.add(Flatten(input_shape=(28, 28)))  # Capa de entrada: aplanar la imagen 28x28 a un vector de 784\n",
    "model.add(Dense(128, activation='relu'))  # Capa oculta: 128 neuronas con función de activación ReLU\n",
    "model.add(Dense(10, activation='softmax'))  # Capa de salida: 10 neuronas para las 10 clases posibles (dígitos del 0 al 9) con función de activación softmax\n",
    "\n",
    "# Compilar el modelo\n",
    "model.compile(optimizer='adam', loss='sparse_categorical_crossentropy', metrics=['accuracy'])\n",
    "\n",
    "# Entrenar el modelo\n",
    "model.fit(x_train, y_train, epochs=5, batch_size=32, validation_data=(x_test, y_test))\n",
    "\n",
    "# Evaluar el modelo\n",
    "test_loss, test_acc = model.evaluate(x_test, y_test)\n",
    "print('Precisión en el conjunto de prueba:', test_acc)\n"
   ]
  },
  {
   "cell_type": "code",
   "execution_count": null,
   "id": "e5a4e811",
   "metadata": {},
   "outputs": [],
   "source": []
  }
 ],
 "metadata": {
  "kernelspec": {
   "display_name": "Python 3 (ipykernel)",
   "language": "python",
   "name": "python3"
  },
  "language_info": {
   "codemirror_mode": {
    "name": "ipython",
    "version": 3
   },
   "file_extension": ".py",
   "mimetype": "text/x-python",
   "name": "python",
   "nbconvert_exporter": "python",
   "pygments_lexer": "ipython3",
   "version": "3.10.11"
  }
 },
 "nbformat": 4,
 "nbformat_minor": 5
}
