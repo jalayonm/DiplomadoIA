{
 "cells": [
  {
   "cell_type": "markdown",
   "id": "3f12bb5c",
   "metadata": {},
   "source": [
    "# <center> Tarea 4-Parte 2, Diplomado en Inteligencia Artificial y Aprendizaje Profundo\n",
    "    \n",
    "    \n",
    "* Juan Felipe Alayón Martiínez \n",
    "* jalayonm@unal.edu.co\n",
    "* de abril del 2023"
   ]
  },
  {
   "cell_type": "markdown",
   "id": "09d2814c",
   "metadata": {},
   "source": [
    "## Parte 2\n",
    "\n",
    "3. Escriba una clase con las siguientes funcionalidades:\n",
    "    * Al instanciar un objeto, lee un conjunto de datos numéricos. Por ejemplo puede usar el mismo conjunto de datos iris.csv. Instancie los datos en un dataframe de Pandas\n",
    "    * Implemente un método que calcule las estadísticas descriptivas básicas de cada una de las variables.\n",
    "    * Implemente un método que entregue los nombre de las variables disponibles.\n",
    "    * Implemente un método que reciba el nombre de una variable disponible dentro del objeto ( en el  dataframe) y regrese: sus estadísticas básicas:  media, mediana, desviación, percentiles q25, q50, q75 y dibuje un histograma de la distribución de la variable."
   ]
  },
  {
   "cell_type": "code",
   "execution_count": 1,
   "id": "5f872c38",
   "metadata": {},
   "outputs": [],
   "source": [
    "import pandas as pd \n",
    "import matplotlib.pyplot as plt"
   ]
  },
  {
   "cell_type": "code",
   "execution_count": 80,
   "id": "8e72fd30",
   "metadata": {},
   "outputs": [],
   "source": [
    "class Iris4:\n",
    "    def __init__(self, ruta):\n",
    "        self.iris = pd.read_csv(ruta)\n",
    " \n",
    "    def estat_all(self):\n",
    "        return self.iris.describe()\n",
    "    \n",
    "    def names(self):\n",
    "        return list(self.iris.columns)\n",
    "    \n",
    "    def estat_espe(self, variable):\n",
    "        estadistica = {\n",
    "            'promedio': self.iris[variable].mean(),\n",
    "            'mediana': self.iris[variable].median(),\n",
    "            'std': self.iris[variable].std(),\n",
    "            'q25': self.iris[variable].quantile(0.25),\n",
    "            'q50': self.iris[variable].quantile(0.5),\n",
    "            'q75': self.iris[variable].quantile(0.75)\n",
    "        }\n",
    "        \n",
    "        # Histogram plot\n",
    "        plt.hist(self.iris[variable], bins=10)\n",
    "        plt.title(f\"Distribution of {variable}\")\n",
    "        plt.xlabel(variable)\n",
    "        plt.ylabel(\"Frequency\")\n",
    "        plt.show()\n",
    "        \n",
    "        return estadistica\n",
    "    "
   ]
  },
  {
   "cell_type": "code",
   "execution_count": 81,
   "id": "6ee86b1c",
   "metadata": {},
   "outputs": [],
   "source": [
    "#Al instanciar un objeto, lee un conjunto de datos numéricos.\n",
    "#Por ejemplo puede usar el mismo conjunto de datos iris.csv. Instancie los datos en un dataframe de Pandas\n",
    "\n",
    "ruta=\"E://Fisica/Diplomado_Ia/archive/iris.csv\"\n",
    "prueba=Iris4(ruta)"
   ]
  },
  {
   "cell_type": "code",
   "execution_count": 85,
   "id": "aabdf3ad",
   "metadata": {},
   "outputs": [
    {
     "data": {
      "text/html": [
       "<div>\n",
       "<style scoped>\n",
       "    .dataframe tbody tr th:only-of-type {\n",
       "        vertical-align: middle;\n",
       "    }\n",
       "\n",
       "    .dataframe tbody tr th {\n",
       "        vertical-align: top;\n",
       "    }\n",
       "\n",
       "    .dataframe thead th {\n",
       "        text-align: right;\n",
       "    }\n",
       "</style>\n",
       "<table border=\"1\" class=\"dataframe\">\n",
       "  <thead>\n",
       "    <tr style=\"text-align: right;\">\n",
       "      <th></th>\n",
       "      <th>Id</th>\n",
       "      <th>SepalLengthCm</th>\n",
       "      <th>SepalWidthCm</th>\n",
       "      <th>PetalLengthCm</th>\n",
       "      <th>PetalWidthCm</th>\n",
       "    </tr>\n",
       "  </thead>\n",
       "  <tbody>\n",
       "    <tr>\n",
       "      <th>count</th>\n",
       "      <td>150.000000</td>\n",
       "      <td>150.000000</td>\n",
       "      <td>150.000000</td>\n",
       "      <td>150.000000</td>\n",
       "      <td>150.000000</td>\n",
       "    </tr>\n",
       "    <tr>\n",
       "      <th>mean</th>\n",
       "      <td>75.500000</td>\n",
       "      <td>5.843333</td>\n",
       "      <td>3.054000</td>\n",
       "      <td>3.758667</td>\n",
       "      <td>1.198667</td>\n",
       "    </tr>\n",
       "    <tr>\n",
       "      <th>std</th>\n",
       "      <td>43.445368</td>\n",
       "      <td>0.828066</td>\n",
       "      <td>0.433594</td>\n",
       "      <td>1.764420</td>\n",
       "      <td>0.763161</td>\n",
       "    </tr>\n",
       "    <tr>\n",
       "      <th>min</th>\n",
       "      <td>1.000000</td>\n",
       "      <td>4.300000</td>\n",
       "      <td>2.000000</td>\n",
       "      <td>1.000000</td>\n",
       "      <td>0.100000</td>\n",
       "    </tr>\n",
       "    <tr>\n",
       "      <th>25%</th>\n",
       "      <td>38.250000</td>\n",
       "      <td>5.100000</td>\n",
       "      <td>2.800000</td>\n",
       "      <td>1.600000</td>\n",
       "      <td>0.300000</td>\n",
       "    </tr>\n",
       "    <tr>\n",
       "      <th>50%</th>\n",
       "      <td>75.500000</td>\n",
       "      <td>5.800000</td>\n",
       "      <td>3.000000</td>\n",
       "      <td>4.350000</td>\n",
       "      <td>1.300000</td>\n",
       "    </tr>\n",
       "    <tr>\n",
       "      <th>75%</th>\n",
       "      <td>112.750000</td>\n",
       "      <td>6.400000</td>\n",
       "      <td>3.300000</td>\n",
       "      <td>5.100000</td>\n",
       "      <td>1.800000</td>\n",
       "    </tr>\n",
       "    <tr>\n",
       "      <th>max</th>\n",
       "      <td>150.000000</td>\n",
       "      <td>7.900000</td>\n",
       "      <td>4.400000</td>\n",
       "      <td>6.900000</td>\n",
       "      <td>2.500000</td>\n",
       "    </tr>\n",
       "  </tbody>\n",
       "</table>\n",
       "</div>"
      ],
      "text/plain": [
       "               Id  SepalLengthCm  SepalWidthCm  PetalLengthCm  PetalWidthCm\n",
       "count  150.000000     150.000000    150.000000     150.000000    150.000000\n",
       "mean    75.500000       5.843333      3.054000       3.758667      1.198667\n",
       "std     43.445368       0.828066      0.433594       1.764420      0.763161\n",
       "min      1.000000       4.300000      2.000000       1.000000      0.100000\n",
       "25%     38.250000       5.100000      2.800000       1.600000      0.300000\n",
       "50%     75.500000       5.800000      3.000000       4.350000      1.300000\n",
       "75%    112.750000       6.400000      3.300000       5.100000      1.800000\n",
       "max    150.000000       7.900000      4.400000       6.900000      2.500000"
      ]
     },
     "metadata": {},
     "output_type": "display_data"
    }
   ],
   "source": [
    "####Implemente un método que calcule las estadísticas descriptivas básicas de cada una de las variables\n",
    "\n",
    "display(prueba.estat_all())"
   ]
  },
  {
   "cell_type": "code",
   "execution_count": 86,
   "id": "54665298",
   "metadata": {},
   "outputs": [
    {
     "name": "stdout",
     "output_type": "stream",
     "text": [
      "['Id', 'SepalLengthCm', 'SepalWidthCm', 'PetalLengthCm', 'PetalWidthCm', 'Species']\n"
     ]
    }
   ],
   "source": [
    "##Implemente un método que entregue los nombre de las variables disponibles.\n",
    "\n",
    "print(prueba.names())"
   ]
  },
  {
   "cell_type": "code",
   "execution_count": 87,
   "id": "7ef9973b",
   "metadata": {
    "scrolled": false
   },
   "outputs": [
    {
     "data": {
      "image/png": "[encoded data removed]",
      "text/plain": [
       "<Figure size 640x480 with 1 Axes>"
      ]
     },
     "metadata": {},
     "output_type": "display_data"
    },
    {
     "name": "stdout",
     "output_type": "stream",
     "text": [
      "{'mean': 3.758666666666666, 'median': 4.35, 'std': 1.7644204199522617, 'q25': 1.6, 'q50': 4.35, 'q75': 5.1}\n"
     ]
    }
   ],
   "source": [
    "#Implemente un método que reciba el nombre de una variable disponible dentro del objeto ( en el dataframe) y regrese: \n",
    "#sus estadísticas básicas: media, mediana, desviación, percentiles q25, q50, q75 \n",
    "#y dibuje un histograma de la distribución de la variable.\n",
    "\n",
    "variable= prueba.estat_espe('PetalLengthCm')\n",
    "print(variable)"
   ]
  },
  {
   "cell_type": "code",
   "execution_count": null,
   "id": "1b0661a5",
   "metadata": {},
   "outputs": [],
   "source": []
  }
 ],
 "metadata": {
  "kernelspec": {
   "display_name": "Python 3 (ipykernel)",
   "language": "python",
   "name": "python3"
  },
  "language_info": {
   "codemirror_mode": {
    "name": "ipython",
    "version": 3
   },
   "file_extension": ".py",
   "mimetype": "text/x-python",
   "name": "python",
   "nbconvert_exporter": "python",
   "pygments_lexer": "ipython3",
   "version": "3.10.9"
  }
 },
 "nbformat": 4,
 "nbformat_minor": 5
}
