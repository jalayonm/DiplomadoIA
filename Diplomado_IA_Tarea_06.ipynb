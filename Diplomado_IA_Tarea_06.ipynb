{
 "cells": [
  {
   "cell_type": "markdown",
   "id": "eb384397",
   "metadata": {},
   "source": [
    "# <center> Tarea 6, Diplomado en Inteligencia Artificial y Aprendizaje Profundo\n",
    "    \n",
    "    \n",
    "* Juan Felipe Alayón Martiínez \n",
    "* jalayonm@unal.edu.co\n",
    "* Mayo  2023"
   ]
  },
  {
   "cell_type": "code",
   "execution_count": 1,
   "id": "ea7759d5",
   "metadata": {},
   "outputs": [],
   "source": [
    "import pandas as pd\n",
    "import numpy as np\n",
    "import tensorflow as tf\n",
    "from tensorflow.keras.optimizers import Adam\n",
    "import matplotlib.pyplot as plt"
   ]
  },
  {
   "cell_type": "markdown",
   "id": "d7f02ed6",
   "metadata": {},
   "source": [
    "Reescriba el algoritmo de la clase de modelaje Estadístico siguiendo las siguientes instrucciones. No olvide tener al lado a Open Assitant o Chat GPT\n",
    "\n",
    "## Punto 1\n",
    "\n",
    "Escriba una clase iterable que cree los datos y los entregue en lotes de tamaño k (por defecto 32). cada vez que se le soliciten los datos, debe entregar un lote de datos de forma aleatoria.\n",
    "\n",
    "## Punto 2\n",
    "\n",
    "Escriba la clase Trainer. Esta clase recibe la función de perdida, la función predictora y una instancia de la clase generadora de datos. La clase debe incluir método de paso de entrenamiento, método ajuste (fit), método de entrega de parámetros, método de evaluación del modelo, método de predicción y un método gráfico que dibuje las funciones de pérdida y de precisión (accuracy).\n"
   ]
  },
  {
   "cell_type": "markdown",
   "id": "5d7137d0",
   "metadata": {},
   "source": [
    "# SOLUCIÓN"
   ]
  },
  {
   "cell_type": "code",
   "execution_count": 7,
   "id": "20a09f56",
   "metadata": {},
   "outputs": [],
   "source": [
    "def pred(x,w,b):\n",
    "    y_hat = 1 / (1 + tf.exp(-tf.add(tf.matmul(x,w),b)))\n",
    "    return y_hat\n",
    "\n",
    "# pérdida\n",
    "def loss_f(y,y_pred):\n",
    "    loss = -tf.reduce_mean(y * tf.math.log(y_pred) + (1 - y) * tf.math.log(1 - y_pred))\n",
    "    return loss\n",
    "\n",
    "class RandomDataGenerator:\n",
    "    def __init__(self, n):\n",
    "        self.n = n\n",
    "        self.x = None\n",
    "        self.y = None\n",
    "\n",
    "    def generate_data(self):\n",
    "        np.random.seed()\n",
    "        x = np.random.randn(self.n, 2)\n",
    "        y = np.random.randint(0, 2, (self.n, 1))\n",
    "        class_0 = x[y.ravel() == 0]\n",
    "        class_1 = x[y.ravel() == 1]\n",
    "        class_1 += 2.5\n",
    "        x[y.ravel() == 1] += 2.5\n",
    "\n",
    "        self.x = tf.cast(x, dtype=tf.float32)\n",
    "        self.y = tf.cast(y, dtype=tf.float32)\n",
    "        return self.x,self.y\n",
    "\n",
    "    def get_batch(self, batch_size=32):\n",
    "        indices = np.random.choice(self.n, batch_size, replace=False)\n",
    "        batch_x = tf.gather(self.x, indices)\n",
    "        batch_y = tf.gather(self.y, indices)\n",
    "        return batch_x, batch_y\n",
    "\n",
    "\n",
    "class Trainer:\n",
    "    def __init__(self, loss_fn, prediction_fn, data_generator):\n",
    "        self.loss_fn = loss_fn\n",
    "        self.prediction_fn = prediction_fn\n",
    "        self.data_generator = data_generator\n",
    "        self.w = None\n",
    "        self.b = None\n",
    "        self.optimizer = tf.keras.optimizers.Adam(learning_rate=0.1)\n",
    "\n",
    "    def train_step(self, x, y):\n",
    "        with tf.GradientTape() as tape:\n",
    "            y_pred = self.prediction_fn(x, self.w, self.b)\n",
    "            loss = self.loss_fn(y, y_pred)\n",
    "        gradients = tape.gradient(loss, [self.w, self.b])\n",
    "        self.optimizer.apply_gradients(zip(gradients, [self.w, self.b]))\n",
    "        accuracy = tf.reduce_mean(tf.cast(tf.equal(tf.round(y_pred), y), tf.float32))\n",
    "        return loss, accuracy\n",
    "\n",
    "    def fit(self, epochs=10, batch_size=32):\n",
    "        self.w = tf.Variable([[-2.0], [2.0]], dtype=tf.float32)\n",
    "        self.b = tf.Variable([0.], dtype=tf.float32)\n",
    "        self.data_generator.generate_data()\n",
    "        losses = []\n",
    "        accuracies = []\n",
    "        for epoch in range(epochs):\n",
    "            avg_loss = 0.\n",
    "            avg_accuracy = 0.\n",
    "            total_batch = int(self.data_generator.n / batch_size)\n",
    "            for _ in range(total_batch):\n",
    "                batch_x, batch_y = self.data_generator.get_batch(batch_size)\n",
    "                loss, accuracy = self.train_step(batch_x, batch_y)\n",
    "                avg_loss += loss / total_batch\n",
    "                avg_accuracy += accuracy / total_batch\n",
    "                losses.append(avg_loss)\n",
    "                accuracies.append(avg_accuracy)\n",
    "            print(\"Epoch:\", epoch, \"loss:\", avg_loss.numpy(), \"accuracy:\", avg_accuracy.numpy())\n",
    "        return losses, accuracies\n",
    "\n",
    "    def get_parameters(self):\n",
    "        return self.w, self.b\n",
    "\n",
    "    def evaluate_model(self):\n",
    "        y_pred = self.prediction_fn(self.data_generator.x, self.w, self.b)\n",
    "        accuracy = tf.reduce_mean(tf.cast(tf.equal(tf.round(y_pred), self.data_generator.y), tf.float32))\n",
    "        return accuracy.numpy()\n",
    "\n",
    "    def predict(self, x):\n",
    "        return self.prediction_fn(x, self.w, self.b)\n",
    "\n",
    "    def plot_loss_accuracy(self, losses, accuracies):\n",
    "        plt.figure(figsize=(12, 4))\n",
    "        plt.subplot(1, 2, 1)\n",
    "        plt.plot(losses)\n",
    "        plt.xlabel('Iterations')\n",
    "        plt.ylabel('Loss')"
   ]
  },
  {
   "cell_type": "code",
   "execution_count": 10,
   "id": "fcc15a6b",
   "metadata": {
    "scrolled": false
   },
   "outputs": [
    {
     "name": "stdout",
     "output_type": "stream",
     "text": [
      "(<tf.Tensor: shape=(10, 2), dtype=float32, numpy=\n",
      "array([[ 0.7524738 ,  0.26830566],\n",
      "       [ 1.9599117 ,  2.9003716 ],\n",
      "       [-0.33007962,  0.03385202],\n",
      "       [-0.8295925 ,  1.2127454 ],\n",
      "       [ 0.91222686,  2.7436528 ],\n",
      "       [-0.96930563, -0.7155315 ],\n",
      "       [ 0.5090303 , -1.0626842 ],\n",
      "       [ 3.671047  ,  2.8612735 ],\n",
      "       [ 3.2816637 ,  2.2204163 ],\n",
      "       [-0.6497445 ,  1.8481679 ]], dtype=float32)>, <tf.Tensor: shape=(10, 1), dtype=float32, numpy=\n",
      "array([[0.],\n",
      "       [1.],\n",
      "       [0.],\n",
      "       [0.],\n",
      "       [0.],\n",
      "       [0.],\n",
      "       [0.],\n",
      "       [1.],\n",
      "       [1.],\n",
      "       [0.]], dtype=float32)>)\n",
      "(<tf.Tensor: shape=(10, 2), dtype=float32, numpy=\n",
      "array([[ 1.4227295 ,  1.2107244 ],\n",
      "       [-0.28311282,  1.0115201 ],\n",
      "       [ 0.46889973,  0.47512063],\n",
      "       [ 1.4795113 ,  1.1036696 ],\n",
      "       [ 1.2444375 ,  2.1064525 ],\n",
      "       [ 1.666941  ,  0.92551243],\n",
      "       [ 4.3186083 ,  2.5953448 ],\n",
      "       [ 0.18828662,  1.2576181 ],\n",
      "       [-0.71613604, -2.3343143 ],\n",
      "       [ 1.5101979 ,  2.3050742 ]], dtype=float32)>, <tf.Tensor: shape=(10, 1), dtype=float32, numpy=\n",
      "array([[0.],\n",
      "       [0.],\n",
      "       [0.],\n",
      "       [1.],\n",
      "       [1.],\n",
      "       [0.],\n",
      "       [1.],\n",
      "       [0.],\n",
      "       [0.],\n",
      "       [1.]], dtype=float32)>)\n"
     ]
    }
   ],
   "source": [
    "# Cada llamado da un conjunto de datos distintos\n",
    "\n",
    "np.random.seed()\n",
    "n=10\n",
    "\n",
    "data_gen = RandomDataGenerator(n)\n",
    "\n",
    "data= data_gen.generate_data()\n",
    "print(data)\n",
    "data= data_gen.generate_data()\n",
    "print(data)"
   ]
  },
  {
   "cell_type": "code",
   "execution_count": 20,
   "id": "e1e4255e",
   "metadata": {},
   "outputs": [
    {
     "name": "stdout",
     "output_type": "stream",
     "text": [
      "Epoch: 0 loss: 0.6872806 accuracy: 0.71875\n",
      "Epoch: 1 loss: 0.32437047 accuracy: 0.85416657\n",
      "Epoch: 2 loss: 0.18454058 accuracy: 0.9270833\n",
      "Epoch: 3 loss: 0.15795368 accuracy: 0.92916656\n",
      "Epoch: 4 loss: 0.107539825 accuracy: 0.9666666\n",
      "Epoch: 5 loss: 0.101043455 accuracy: 0.95624983\n",
      "Epoch: 6 loss: 0.10214274 accuracy: 0.96249986\n",
      "Epoch: 7 loss: 0.107526176 accuracy: 0.96874994\n",
      "Epoch: 8 loss: 0.080747455 accuracy: 0.9729167\n",
      "Epoch: 9 loss: 0.089021005 accuracy: 0.96666664\n"
     ]
    }
   ],
   "source": [
    "np.random.seed()\n",
    "\n",
    "data_generator = RandomDataGenerator(n=500)\n",
    "trainer = Trainer(loss_fn=loss_f, prediction_fn=pred, data_generator=data_generator)\n",
    "\n",
    "losses, accuracies = trainer.fit(epochs=10, batch_size=32)\n",
    "parameters = trainer.get_parameters()\n",
    "accuracy = trainer.evaluate_model()"
   ]
  },
  {
   "cell_type": "code",
   "execution_count": 21,
   "id": "afbebe58",
   "metadata": {},
   "outputs": [
    {
     "name": "stdout",
     "output_type": "stream",
     "text": [
      "Final parameters: (<tf.Variable 'Variable:0' shape=(2, 1) dtype=float32, numpy=\n",
      "array([[1.7107878],\n",
      "       [2.0613256]], dtype=float32)>, <tf.Variable 'Variable:0' shape=(1,) dtype=float32, numpy=array([-4.8398147], dtype=float32)>)\n",
      "Final accuracy: 0.968\n"
     ]
    }
   ],
   "source": [
    "print(\"Final parameters:\", parameters)\n",
    "print(\"Final accuracy:\", accuracy)"
   ]
  },
  {
   "cell_type": "code",
   "execution_count": 22,
   "id": "fcb0bc6c",
   "metadata": {},
   "outputs": [
    {
     "name": "stdout",
     "output_type": "stream",
     "text": [
      "Predicted labels: tf.Tensor(\n",
      "[[0.]\n",
      " [0.]], shape=(2, 1), dtype=float32)\n"
     ]
    }
   ],
   "source": [
    "test_x = np.array([[1.0, 1.0], [-1.0, -1.0]])\n",
    "predicted_y = trainer.predict(tf.constant(test_x, dtype=tf.float32))\n",
    "print(\"Predicted labels:\", tf.round(predicted_y))"
   ]
  },
  {
   "cell_type": "code",
   "execution_count": 23,
   "id": "12344f3b",
   "metadata": {},
   "outputs": [
    {
     "data": {
      "image/png": "[encoded data removed]",
      "text/plain": [
       "<Figure size 1200x400 with 1 Axes>"
      ]
     },
     "metadata": {},
     "output_type": "display_data"
    }
   ],
   "source": [
    "trainer.plot_loss_accuracy( losses, accuracies)"
   ]
  },
  {
   "cell_type": "code",
   "execution_count": null,
   "id": "7f33ebad",
   "metadata": {},
   "outputs": [],
   "source": []
  }
 ],
 "metadata": {
  "kernelspec": {
   "display_name": "Python 3 (ipykernel)",
   "language": "python",
   "name": "python3"
  },
  "language_info": {
   "codemirror_mode": {
    "name": "ipython",
    "version": 3
   },
   "file_extension": ".py",
   "mimetype": "text/x-python",
   "name": "python",
   "nbconvert_exporter": "python",
   "pygments_lexer": "ipython3",
   "version": "3.10.11"
  }
 },
 "nbformat": 4,
 "nbformat_minor": 5
}
